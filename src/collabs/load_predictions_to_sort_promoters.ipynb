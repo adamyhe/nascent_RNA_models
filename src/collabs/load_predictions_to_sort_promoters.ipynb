{
 "cells": [
  {
   "cell_type": "code",
   "execution_count": 1,
   "id": "9642a6eb",
   "metadata": {},
   "outputs": [],
   "source": [
    "import numpy as np\n",
    "import os\n",
    "import pandas as pd\n",
    "from tqdm import tqdm\n",
    "import sys\n",
    "import pyBigWig\n",
    "\n",
    "import matplotlib.pyplot as plt\n",
    "\n",
    "\n",
    "# model input and output lengths\n",
    "in_window = 2114\n",
    "out_window = 1000\n",
    "\n",
    "\n",
    "# filepaths -- Shreya can change to what she names the files she downloads\n",
    "\n",
    "genes_list_path = \"genes_to_screen.csv\"  # from Shreya\n",
    "\n",
    "candidate_promoter_regions_bed = \"TSS_windows.merge.bed\" # made by expanding windows around gene TSSs\n",
    "\n",
    "procapnet_preds_pos_strand_bigwig = \"tracks_v2/TSS_windows.preds.pos.bigWig\"\n",
    "procapnet_preds_neg_strand_bigwig = \"tracks_v2/TSS_windows.preds.neg.bigWig\""
   ]
  },
  {
   "cell_type": "code",
   "execution_count": 2,
   "id": "dce79edc",
   "metadata": {},
   "outputs": [
    {
     "name": "stdout",
     "output_type": "stream",
     "text": [
      "Peak filepath: TSS_windows.merge.bed\n",
      "Num. examples loaded: 228\n"
     ]
    }
   ],
   "source": [
    "def load_data(plus_bw_path, minus_bw_path, peak_path,\n",
    "                       verbose=False):\n",
    "\n",
    "    signals = []\n",
    "    out_width = out_window // 2\n",
    "\n",
    "    names = ['chrom', 'start', 'end']\n",
    "    assert os.path.exists(peak_path), peak_path\n",
    "    peaks = pd.read_csv(peak_path, sep=\"\\t\", usecols=(0, 1, 2), \n",
    "        header=None, index_col=False, names=names)\n",
    "\n",
    "    assert os.path.exists(plus_bw_path), plus_bw_path\n",
    "    assert os.path.exists(minus_bw_path), minus_bw_path\n",
    "    plus_bw = pyBigWig.open(plus_bw_path, \"r\")\n",
    "    minus_bw = pyBigWig.open(minus_bw_path, \"r\")\n",
    "\n",
    "    # loop through all the candidate promoter region coordinates\n",
    "    for _, (chrom, og_start, og_end) in tqdm(peaks.iterrows(), disable=True):\n",
    "        start = max(0, og_start - out_width)\n",
    "        end = og_end + out_width\n",
    "        assert start >= 0, start\n",
    "\n",
    "        # Load plus strand signal\n",
    "        plus_sig = plus_bw.values(chrom, start, end, numpy=True)\n",
    "        plus_sig = np.nan_to_num(plus_sig)\n",
    "\n",
    "        # Load minus strand signal\n",
    "        minus_sig = minus_bw.values(chrom, start, end, numpy=True)\n",
    "        minus_sig = np.nan_to_num(minus_sig)\n",
    "\n",
    "        # Append signal to growing signal list\n",
    "        assert len(plus_sig) == end - start, (len(plus_sig), start, end)\n",
    "        assert len(minus_sig) == end - start, (len(minus_sig), start, end)\n",
    "        signals.append(np.array([plus_sig, minus_sig]))\n",
    "    \n",
    "    to_print = \"Peak filepath: \" + peak_path\n",
    "    to_print += \"\\nNum. examples loaded: \" + str(len(signals))\n",
    "    print(to_print)\n",
    "    sys.stdout.flush()\n",
    "\n",
    "    return signals\n",
    "\n",
    "\n",
    "predictions = load_data(procapnet_preds_pos_strand_bigwig,\n",
    "                       procapnet_preds_neg_strand_bigwig,\n",
    "                       candidate_promoter_regions_bed)"
   ]
  },
  {
   "cell_type": "code",
   "execution_count": 3,
   "id": "d9f34195",
   "metadata": {},
   "outputs": [
    {
     "data": {
      "text/plain": [
       "(228, (2, 7622))"
      ]
     },
     "execution_count": 3,
     "metadata": {},
     "output_type": "execute_result"
    }
   ],
   "source": [
    "# predictions is list of PRO-cap predictions, one per candidate promoter region\n",
    "# each prediction is a numpy array of shape (num_strands, length)\n",
    "len(predictions), predictions[0].shape"
   ]
  },
  {
   "cell_type": "code",
   "execution_count": 4,
   "id": "06340552",
   "metadata": {},
   "outputs": [],
   "source": [
    "# to figure out which promoter regions are predicted to have the most signal:\n",
    "\n",
    "# first, load in the coordinates for all of these regions\n",
    "\n",
    "def load_coords_ragged(bed_file):\n",
    "    # loads bed file into list of regions, 1 element in list = 1 row of file\n",
    "    lines = []\n",
    "    if bed_file.endswith(\".gz\"):\n",
    "        with gzip.open(bed_file) as f:\n",
    "            lines = [line.decode().split() for line in f]\n",
    "    else:\n",
    "        with open(bed_file) as f:\n",
    "            lines = [line.split() for line in f]\n",
    "            \n",
    "    # logic of how much to extend the coordinates in the file by on either end\n",
    "    # (this is consistent with how the data is loaded in above)\n",
    "    \n",
    "    coords = []\n",
    "    for line in lines:\n",
    "        chrom, start, end, gene_name, strand = line[0], int(line[1]), int(line[2]), line[3], line[-1]\n",
    "        \n",
    "        peak_len = end - start\n",
    "        preds_len = peak_len + out_window\n",
    "        mid = start + (end - start) // 2\n",
    "        \n",
    "        # last coord is calculated weird because of odd-length windows\n",
    "        coord = (chrom, mid - preds_len // 2, mid - preds_len // 2 + preds_len, gene_name, strand)\n",
    "        if coord[1] < 0:\n",
    "            coord = (chrom, 0 + (in_window - out_window) // 2, mid - preds_len // 2 + preds_len, gene_name, strand)\n",
    "        coords.append(coord)\n",
    "\n",
    "    return np.array(coords, dtype=object)\n",
    "\n",
    "\n",
    "coords = load_coords_ragged(candidate_promoter_regions_bed)"
   ]
  },
  {
   "cell_type": "code",
   "execution_count": 5,
   "id": "5365c6fb",
   "metadata": {},
   "outputs": [
    {
     "data": {
      "text/plain": [
       "(228, array(['chr1', 628574, 636196, 'MTATP6P1,MTCO1P12', '+'], dtype=object))"
      ]
     },
     "execution_count": 5,
     "metadata": {},
     "output_type": "execute_result"
    }
   ],
   "source": [
    "len(coords), coords[0]"
   ]
  },
  {
   "cell_type": "code",
   "execution_count": 6,
   "id": "2f7137ef",
   "metadata": {},
   "outputs": [],
   "source": [
    "# most basic way of ranking promoters would be by taking the sum of the predictions\n",
    "# in the window around the TSS...\n",
    "pred_procap_at_promoters = np.array([pred.sum() for pred in predictions])"
   ]
  },
  {
   "cell_type": "code",
   "execution_count": 7,
   "id": "6a1c48aa",
   "metadata": {},
   "outputs": [
    {
     "data": {
      "image/png": "[encoded data removed]",
      "text/plain": [
       "<Figure size 370x200 with 1 Axes>"
      ]
     },
     "metadata": {},
     "output_type": "display_data"
    }
   ],
   "source": [
    "plt.figure(figsize=(3.7,2))\n",
    "plt.hist(pred_procap_at_promoters, bins=50)\n",
    "plt.xlabel(\"Predicted PRO-cap Signal In Promoter Region\")\n",
    "plt.gca().spines[[\"top\", \"right\"]].set_visible(False)\n",
    "plt.show()"
   ]
  },
  {
   "cell_type": "code",
   "execution_count": 8,
   "id": "7bda47c2",
   "metadata": {},
   "outputs": [],
   "source": [
    "# but does this depend on how wide the window was when I made predictions?\n",
    "# (the window was wider if there were multiple alt TSSs/promoters nearby)\n",
    "window_len_at_promoters = np.array([pred.shape[-1] for pred in predictions])"
   ]
  },
  {
   "cell_type": "code",
   "execution_count": 9,
   "id": "dacc86a2",
   "metadata": {},
   "outputs": [
    {
     "data": {
      "image/png": "[encoded data removed]",
      "text/plain": [
       "<Figure size 370x200 with 1 Axes>"
      ]
     },
     "metadata": {},
     "output_type": "display_data"
    }
   ],
   "source": [
    "plt.figure(figsize=(3.7,2))\n",
    "plt.hist(window_len_at_promoters, bins=50)\n",
    "plt.xlabel(\"Promoter Region Width\")\n",
    "plt.gca().spines[[\"top\", \"right\"]].set_visible(False)\n",
    "plt.show()"
   ]
  },
  {
   "cell_type": "code",
   "execution_count": 10,
   "id": "99d6dc7f",
   "metadata": {},
   "outputs": [
    {
     "name": "stdout",
     "output_type": "stream",
     "text": [
      "0.3423034345284161\n"
     ]
    }
   ],
   "source": [
    "print(np.corrcoef(window_len_at_promoters, pred_procap_at_promoters)[0,1])"
   ]
  },
  {
   "cell_type": "code",
   "execution_count": 11,
   "id": "cc638378",
   "metadata": {},
   "outputs": [],
   "source": [
    "# might need to be more sophisticated than \"which window has most signal overall\"\n",
    "# if window size and total signal are correlated\n",
    "# ... and also we should probably take strand into account...\n",
    "\n",
    "# so we can instead rank windows by max local signal\n",
    "\n",
    "mini_window_max_signals = []\n",
    "# for each candidate promoter region...\n",
    "for pred, coord in zip(predictions, coords):\n",
    "    # only care about predictions on sense strand (where gene is)\n",
    "    strand = coord[-1]\n",
    "    if strand == \"+\":\n",
    "        pred = pred[0]\n",
    "    else:\n",
    "        pred = pred[1]\n",
    "        \n",
    "    # sum up signal in 50bp mini-windows across the whole region,\n",
    "    # then take the max signal seen in any mini-window\n",
    "    \n",
    "    sliding_window_len = 50\n",
    "    mini_window_signal = []\n",
    "    for i in range(len(pred) - sliding_window_len):\n",
    "        mini_window_signal.append(pred[i:i + sliding_window_len].sum())\n",
    "    \n",
    "    mini_window_max_signals.append(max(mini_window_signal))\n",
    "    \n",
    "# this should be a better ranking metric\n",
    "mini_window_max_signals = np.array(mini_window_max_signals)"
   ]
  },
  {
   "cell_type": "code",
   "execution_count": 12,
   "id": "9a44218a",
   "metadata": {},
   "outputs": [
    {
     "data": {
      "image/png": "[encoded data removed]",
      "text/plain": [
       "<Figure size 370x200 with 1 Axes>"
      ]
     },
     "metadata": {},
     "output_type": "display_data"
    }
   ],
   "source": [
    "plt.figure(figsize=(3.7,2))\n",
    "plt.hist(mini_window_max_signals, bins=50)\n",
    "plt.xlabel(\"Local Promoter Signal\")\n",
    "plt.gca().spines[[\"top\", \"right\"]].set_visible(False)\n",
    "plt.show()"
   ]
  },
  {
   "cell_type": "code",
   "execution_count": 13,
   "id": "5ed9f3cd",
   "metadata": {},
   "outputs": [
    {
     "name": "stdout",
     "output_type": "stream",
     "text": [
      "[1528.7479  1227.1544  1186.0095  1114.8605   896.39606]\n"
     ]
    }
   ],
   "source": [
    "# this command gives us the order for sorting promoter regions by signal strength\n",
    "# so the first element is the index of the strongest promoter,\n",
    "# the second element is the seond-strongest promoter, etc.\n",
    "promoter_region_indexes_sorted_by_signal = np.argsort(mini_window_max_signals)[::-1]\n",
    "print(mini_window_max_signals[promoter_region_indexes_sorted_by_signal[:5]])  # matches histogram max"
   ]
  },
  {
   "cell_type": "code",
   "execution_count": 14,
   "id": "11fc99b8",
   "metadata": {},
   "outputs": [],
   "source": [
    "# then, we just sort the coordinates by the sorting order for the predicted signal\n",
    "coords_sorted_by_signal = coords[promoter_region_indexes_sorted_by_signal]"
   ]
  },
  {
   "cell_type": "code",
   "execution_count": 15,
   "id": "ac5b0574",
   "metadata": {},
   "outputs": [
    {
     "data": {
      "text/plain": [
       "array([['chr5', 179613787, 179627169, 'HNRNPH1', '-'],\n",
       "       ['chr7', 44794180, 44801314, 'PPIA', '+'],\n",
       "       ['chr11', 66614126, 66621545, 'RBM14', '+'],\n",
       "       ['chr16', 2750126, 2755943, 'SRRM2', '+'],\n",
       "       ['chr2', 197432516, 197437579, 'SF3B1', '-'],\n",
       "       ['chr19', 58276455, 58281455, 'ZNF8', '+'],\n",
       "       ['chr11', 64775260, 64781286, 'SF1', '-'],\n",
       "       ['chr6', 13612835, 13618089, 'NOL7', '+'],\n",
       "       ['chr16', 2261831, 2270897, 'RNPS1', '-'],\n",
       "       ['chr11', 57710093, 57715125, 'TMX2', '+']], dtype=object)"
      ]
     },
     "execution_count": 15,
     "metadata": {},
     "output_type": "execute_result"
    }
   ],
   "source": [
    "# this gives the top 10 strongest promoters\n",
    "coords_sorted_by_signal[:10]"
   ]
  },
  {
   "cell_type": "code",
   "execution_count": null,
   "id": "6c60f93a",
   "metadata": {},
   "outputs": [],
   "source": []
  }
 ],
 "metadata": {
  "kernelspec": {
   "display_name": "Python [conda env:procap_A100] *",
   "language": "python",
   "name": "conda-env-procap_A100-py"
  },
  "language_info": {
   "codemirror_mode": {
    "name": "ipython",
    "version": 3
   },
   "file_extension": ".py",
   "mimetype": "text/x-python",
   "name": "python",
   "nbconvert_exporter": "python",
   "pygments_lexer": "ipython3",
   "version": "3.9.13"
  }
 },
 "nbformat": 4,
 "nbformat_minor": 5
}
