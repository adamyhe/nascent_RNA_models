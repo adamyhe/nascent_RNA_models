{
 "cells": [
  {
   "cell_type": "code",
   "execution_count": 1,
   "id": "d160c0a9",
   "metadata": {},
   "outputs": [],
   "source": [
    "import os\n",
    "os.environ[\"CUDA_VISIBLE_DEVICES\"] = \"3\""
   ]
  },
  {
   "cell_type": "code",
   "execution_count": 3,
   "id": "0b01e7a7",
   "metadata": {},
   "outputs": [],
   "source": [
    "import sys\n",
    "sys.path.append(\"../2_train_models\")\n",
    "from file_configs import FoldFilesConfig\n",
    "\n",
    "from data_loading import extract_peaks, extract_observed_profiles\n",
    "#from performance_metrics import compute_performance_metrics\n",
    "#from plot_utils import get_continuous_cmap\n",
    "\n",
    "import matplotlib.pyplot as plt\n",
    "#import matplotlib.colors as colors\n",
    "#import matplotlib.cm as cmx\n",
    "import numpy as np\n",
    "#import pandas as pd\n",
    "import torch\n",
    "#from collections import defaultdict"
   ]
  },
  {
   "cell_type": "code",
   "execution_count": 4,
   "id": "172e9b26",
   "metadata": {},
   "outputs": [],
   "source": [
    "cell_types = [\"K562\", \"A673\", \"CACO2\", \"CALU3\", \"HUVEC\", \"MCF10A\"]\n",
    "\n",
    "timestamps = {\"K562\" : \"2023-05-29_15-51-40\",\n",
    "              \"A673\" : \"2023-06-11_20-11-32\",\n",
    "              \"CACO2\" : \"2023-06-12_21-46-40\",\n",
    "              \"CALU3\" : \"2023-06-14_00-43-44\",\n",
    "              \"HUVEC\" : \"2023-06-16_21-59-35\",\n",
    "              \"MCF10A\" : \"2023-06-15_06-07-40\"}\n",
    "\n",
    "model_type = \"strand_merged_umap\"\n",
    "data_type = \"procap\"\n",
    "\n",
    "in_window = 2114\n",
    "out_window = 1000"
   ]
  },
  {
   "cell_type": "code",
   "execution_count": 8,
   "id": "32611c82",
   "metadata": {},
   "outputs": [
    {
     "name": "stdout",
     "output_type": "stream",
     "text": [
      "Timestamp: 2023-05-29_15-51-40\n"
     ]
    }
   ],
   "source": [
    "proj_dir = FoldFilesConfig(cell_types[0], model_type, \"1\", timestamps[cell_types[0]], data_type).proj_dir\n",
    "\n",
    "union_peaks_path = proj_dir + \"data/\" + data_type + \"/processed/union_peaks_fold1_val.bed.gz\""
   ]
  },
  {
   "cell_type": "code",
   "execution_count": 9,
   "id": "84bf0628",
   "metadata": {},
   "outputs": [
    {
     "name": "stdout",
     "output_type": "stream",
     "text": [
      "/mnt/lab_data2/kcochran/procapnet/data/procap/processed/union_peaks_fold1_val.bed.gz\r\n"
     ]
    }
   ],
   "source": [
    "! ls $union_peaks_path"
   ]
  },
  {
   "cell_type": "code",
   "execution_count": 12,
   "id": "07023e14",
   "metadata": {
    "scrolled": true
   },
   "outputs": [
    {
     "name": "stdout",
     "output_type": "stream",
     "text": [
      "K562\n",
      "Timestamp: 2023-05-29_15-51-40\n",
      "Loading genome sequence from /mnt/lab_data2/kcochran/procapnet/genomes/hg38.withrDNA.fasta\n"
     ]
    },
    {
     "name": "stderr",
     "output_type": "stream",
     "text": [
      "Reading FASTA: 100%|██████████████████████████████████████████████████████████████████████████████████████████████████████████████████████████████████████████████████████████████████████████████████████████████████████████| 24/24 [00:09<00:00,  2.53it/s]\n",
      "Loading Peaks: 14269it [00:25, 566.47it/s]\n"
     ]
    },
    {
     "name": "stdout",
     "output_type": "stream",
     "text": [
      "== In Extract Peaks ==\n",
      "Peak filepath: /mnt/lab_data2/kcochran/procapnet/data/procap/processed/union_peaks_fold1_val.bed.gz\n",
      "Sequence length (with jitter): 2114\n",
      "Profile length (with jitter): 1000\n",
      "Max jitter applied: 0\n",
      "Num. Examples: 14269\n",
      "Mask loaded? False\n",
      "A673\n",
      "Timestamp: 2023-06-11_20-11-32\n",
      "Loading genome sequence from /mnt/lab_data2/kcochran/procapnet/genomes/hg38.withrDNA.fasta\n"
     ]
    },
    {
     "name": "stderr",
     "output_type": "stream",
     "text": [
      "Reading FASTA: 100%|██████████████████████████████████████████████████████████████████████████████████████████████████████████████████████████████████████████████████████████████████████████████████████████████████████████| 24/24 [00:09<00:00,  2.51it/s]\n",
      "Loading Peaks: 14269it [00:24, 577.09it/s]\n"
     ]
    },
    {
     "name": "stdout",
     "output_type": "stream",
     "text": [
      "== In Extract Peaks ==\n",
      "Peak filepath: /mnt/lab_data2/kcochran/procapnet/data/procap/processed/union_peaks_fold1_val.bed.gz\n",
      "Sequence length (with jitter): 2114\n",
      "Profile length (with jitter): 1000\n",
      "Max jitter applied: 0\n",
      "Num. Examples: 14269\n",
      "Mask loaded? False\n",
      "CACO2\n",
      "Timestamp: 2023-06-12_21-46-40\n",
      "Loading genome sequence from /mnt/lab_data2/kcochran/procapnet/genomes/hg38.withrDNA.fasta\n"
     ]
    },
    {
     "name": "stderr",
     "output_type": "stream",
     "text": [
      "Reading FASTA: 100%|██████████████████████████████████████████████████████████████████████████████████████████████████████████████████████████████████████████████████████████████████████████████████████████████████████████| 24/24 [00:09<00:00,  2.57it/s]\n",
      "Loading Peaks: 14269it [00:24, 574.88it/s]\n"
     ]
    },
    {
     "name": "stdout",
     "output_type": "stream",
     "text": [
      "== In Extract Peaks ==\n",
      "Peak filepath: /mnt/lab_data2/kcochran/procapnet/data/procap/processed/union_peaks_fold1_val.bed.gz\n",
      "Sequence length (with jitter): 2114\n",
      "Profile length (with jitter): 1000\n",
      "Max jitter applied: 0\n",
      "Num. Examples: 14269\n",
      "Mask loaded? False\n",
      "CALU3\n",
      "Timestamp: 2023-06-14_00-43-44\n",
      "Loading genome sequence from /mnt/lab_data2/kcochran/procapnet/genomes/hg38.withrDNA.fasta\n"
     ]
    },
    {
     "name": "stderr",
     "output_type": "stream",
     "text": [
      "Reading FASTA: 100%|██████████████████████████████████████████████████████████████████████████████████████████████████████████████████████████████████████████████████████████████████████████████████████████████████████████| 24/24 [00:09<00:00,  2.53it/s]\n",
      "Loading Peaks: 14269it [00:25, 570.27it/s]\n"
     ]
    },
    {
     "name": "stdout",
     "output_type": "stream",
     "text": [
      "== In Extract Peaks ==\n",
      "Peak filepath: /mnt/lab_data2/kcochran/procapnet/data/procap/processed/union_peaks_fold1_val.bed.gz\n",
      "Sequence length (with jitter): 2114\n",
      "Profile length (with jitter): 1000\n",
      "Max jitter applied: 0\n",
      "Num. Examples: 14269\n",
      "Mask loaded? False\n",
      "HUVEC\n",
      "Timestamp: 2023-06-16_21-59-35\n",
      "Loading genome sequence from /mnt/lab_data2/kcochran/procapnet/genomes/hg38.withrDNA.fasta\n"
     ]
    },
    {
     "name": "stderr",
     "output_type": "stream",
     "text": [
      "Reading FASTA: 100%|██████████████████████████████████████████████████████████████████████████████████████████████████████████████████████████████████████████████████████████████████████████████████████████████████████████| 24/24 [00:09<00:00,  2.55it/s]\n",
      "Loading Peaks: 14269it [00:24, 578.37it/s]\n"
     ]
    },
    {
     "name": "stdout",
     "output_type": "stream",
     "text": [
      "== In Extract Peaks ==\n",
      "Peak filepath: /mnt/lab_data2/kcochran/procapnet/data/procap/processed/union_peaks_fold1_val.bed.gz\n",
      "Sequence length (with jitter): 2114\n",
      "Profile length (with jitter): 1000\n",
      "Max jitter applied: 0\n",
      "Num. Examples: 14269\n",
      "Mask loaded? False\n",
      "MCF10A\n",
      "Timestamp: 2023-06-15_06-07-40\n",
      "Loading genome sequence from /mnt/lab_data2/kcochran/procapnet/genomes/hg38.withrDNA.fasta\n"
     ]
    },
    {
     "name": "stderr",
     "output_type": "stream",
     "text": [
      "Reading FASTA: 100%|██████████████████████████████████████████████████████████████████████████████████████████████████████████████████████████████████████████████████████████████████████████████████████████████████████████| 24/24 [00:09<00:00,  2.56it/s]\n",
      "Loading Peaks: 14269it [00:24, 573.97it/s]\n"
     ]
    },
    {
     "name": "stdout",
     "output_type": "stream",
     "text": [
      "== In Extract Peaks ==\n",
      "Peak filepath: /mnt/lab_data2/kcochran/procapnet/data/procap/processed/union_peaks_fold1_val.bed.gz\n",
      "Sequence length (with jitter): 2114\n",
      "Profile length (with jitter): 1000\n",
      "Max jitter applied: 0\n",
      "Num. Examples: 14269\n",
      "Mask loaded? False\n"
     ]
    }
   ],
   "source": [
    "def _predict(model, onehot_seqs, batch_size=64, logits = False):\n",
    "    with torch.no_grad():\n",
    "        starts = np.arange(0, onehot_seqs.shape[0], batch_size)\n",
    "        ends = starts + batch_size\n",
    "\n",
    "        y_profiles, y_counts = [], []\n",
    "        for start, end in zip(starts, ends):\n",
    "            X_batch = onehot_seqs[start:end].cuda()\n",
    "\n",
    "            y_profiles_, y_counts_ = model(X_batch)\n",
    "            if not logits:  # apply softmax\n",
    "                y_profiles_ = model.log_softmax(y_profiles_)\n",
    "            y_profiles.append(y_profiles_.cpu().detach().numpy())\n",
    "            y_counts.append(y_counts_.cpu().detach().numpy())\n",
    "\n",
    "        y_profiles = np.concatenate(y_profiles)\n",
    "        y_counts = np.concatenate(y_counts)\n",
    "        return y_profiles, y_counts\n",
    "\n",
    "    \n",
    "def predict_union_peaks_all_cells(cell_types, timestamps, model_type, data_type):\n",
    "    pred_logcounts = dict()\n",
    "    pred_profiles = dict()\n",
    "    true_counts = dict()\n",
    "    true_profiles = dict()\n",
    "    for cell_type in cell_types:\n",
    "        print(cell_type)\n",
    "        config = FoldFilesConfig(cell_type, model_type, \"1\", timestamps[cell_type], data_type)\n",
    "        model = torch.load(config.model_save_path).cuda()\n",
    "        \n",
    "        onehot_seqs, true_profs = extract_peaks(config.genome_path,\n",
    "                                       config.chrom_sizes,\n",
    "                                       config.plus_bw_path,\n",
    "                                       config.minus_bw_path,\n",
    "                                       union_peaks_path,\n",
    "                                       in_window=in_window,\n",
    "                                       out_window=out_window,\n",
    "                                       max_jitter=0, verbose=True)\n",
    "\n",
    "        pred_profs, pred_logcts = _predict(model, torch.tensor(onehot_seqs, dtype=torch.float))\n",
    "        pred_logcounts[cell_type] = pred_logcts\n",
    "        pred_profiles[cell_type] = pred_profs\n",
    "        true_counts[cell_type] = true_profs.sum(axis=-1)\n",
    "        true_profiles[cell_type] = true_profs\n",
    "    return pred_logcounts, true_counts, pred_profiles, true_profiles\n",
    "\n",
    "\n",
    "union_pred_logcounts, union_true_counts, union_pred_profiles, union_true_profiles = predict_union_peaks_all_cells(cell_types, timestamps,\n",
    "                                                     model_type, data_type)"
   ]
  },
  {
   "cell_type": "code",
   "execution_count": 13,
   "id": "3c419a7b",
   "metadata": {},
   "outputs": [
    {
     "data": {
      "text/plain": [
       "(14269, 1)"
      ]
     },
     "execution_count": 13,
     "metadata": {},
     "output_type": "execute_result"
    }
   ],
   "source": [
    "union_pred_logcounts[\"K562\"].shape"
   ]
  },
  {
   "cell_type": "code",
   "execution_count": 14,
   "id": "98bf9c0c",
   "metadata": {},
   "outputs": [],
   "source": [
    "dest_path = \"/mnt/lab_data2/kcochran/procap_data_for_melody/predicted/\"\n",
    "\n",
    "for cell_type in cell_types:\n",
    "    pred_lgcts = union_pred_logcounts[cell_type]\n",
    "    pred_profs = union_pred_profiles[cell_type]\n",
    "    \n",
    "    np.save(dest_path + cell_type + \"/pred_logcounts.npy\", pred_lgcts)\n",
    "    np.save(dest_path + cell_type + \"/pred_profiles.npy\", pred_profs)"
   ]
  },
  {
   "cell_type": "code",
   "execution_count": null,
   "id": "901d4dc3",
   "metadata": {},
   "outputs": [],
   "source": []
  }
 ],
 "metadata": {
  "kernelspec": {
   "display_name": "Python [conda env:procap_A100] *",
   "language": "python",
   "name": "conda-env-procap_A100-py"
  },
  "language_info": {
   "codemirror_mode": {
    "name": "ipython",
    "version": 3
   },
   "file_extension": ".py",
   "mimetype": "text/x-python",
   "name": "python",
   "nbconvert_exporter": "python",
   "pygments_lexer": "ipython3",
   "version": "3.9.13"
  }
 },
 "nbformat": 4,
 "nbformat_minor": 5
}
